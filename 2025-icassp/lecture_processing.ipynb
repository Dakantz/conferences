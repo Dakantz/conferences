{
 "cells": [
  {
   "cell_type": "code",
   "execution_count": 1,
   "id": "c694a3bd",
   "metadata": {},
   "outputs": [],
   "source": [
    "import pandas as pd\n",
    "from pylatex.utils import escape_latex"
   ]
  },
  {
   "cell_type": "code",
   "execution_count": 2,
   "id": "3a892d49",
   "metadata": {},
   "outputs": [],
   "source": [
    "data_df=pd.read_csv('lectures.csv')"
   ]
  },
  {
   "cell_type": "code",
   "execution_count": 5,
   "id": "be36859a",
   "metadata": {},
   "outputs": [],
   "source": [
    "with open(\"./lectures.tex\", \"w\") as f:\n",
    "    f.write(\"\\\\begin{longtblr}{|X|X|X|}  \\n\")\n",
    "    f.write(\"\\\\hline \\n\")\n",
    "    f.write(\"Lecture & URL &  Notes  \\\\\\\\  \\n\")\n",
    "    f.write(\"\\\\hline \\n\")\n",
    "    for i, row in data_df.iterrows():\n",
    "        f.write(\n",
    "            \"\\\\textbf{\"\n",
    "            + escape_latex(row[\"lecture\"])\n",
    "            + \"} & \\\\url{\"\n",
    "            + escape_latex(row[\"url\"])\n",
    "            + \"}\"\n",
    "            + \" & \"\n",
    "            + escape_latex(row[\"notes\"])\n",
    "            + \"\\\\\\\\ \\n\"\n",
    "        )\n",
    "        f.write(\"\\\\hline \\n\")\n",
    "\n",
    "    f.write(\"\\\\end{longtblr}\")"
   ]
  }
 ],
 "metadata": {
  "kernelspec": {
   "display_name": "everything",
   "language": "python",
   "name": "python3"
  },
  "language_info": {
   "codemirror_mode": {
    "name": "ipython",
    "version": 3
   },
   "file_extension": ".py",
   "mimetype": "text/x-python",
   "name": "python",
   "nbconvert_exporter": "python",
   "pygments_lexer": "ipython3",
   "version": "3.10.9"
  }
 },
 "nbformat": 4,
 "nbformat_minor": 5
}
